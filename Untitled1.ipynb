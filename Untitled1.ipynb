{
  "nbformat": 4,
  "nbformat_minor": 0,
  "metadata": {
    "colab": {
      "name": "Untitled1.ipynb",
      "version": "0.3.2",
      "provenance": [],
      "include_colab_link": true
    },
    "kernelspec": {
      "name": "python3",
      "display_name": "Python 3"
    },
    "accelerator": "GPU"
  },
  "cells": [
    {
      "cell_type": "markdown",
      "metadata": {
        "id": "view-in-github",
        "colab_type": "text"
      },
      "source": [
        "<a href=\"https://colab.research.google.com/github/vishalsheth/CUDA/blob/master/Untitled1.ipynb\" target=\"_parent\"><img src=\"https://colab.research.google.com/assets/colab-badge.svg\" alt=\"Open In Colab\"/></a>"
      ]
    },
    {
      "metadata": {
        "id": "T0QgAN-lfQoc",
        "colab_type": "code",
        "colab": {
          "base_uri": "https://localhost:8080/",
          "height": 34
        },
        "outputId": "f1da2f78-4116-4c85-8f62-fbde2dae77be"
      },
      "cell_type": "code",
      "source": [
        "%%cu\n",
        "#include<stdio.h>\n",
        "#include <iostream>\n",
        "#define N  64\n",
        "\n",
        "inline cudaError_t checkCudaErr(cudaError_t err, const char* msg) {\n",
        "  if (err != cudaSuccess) {\n",
        "    fprintf(stderr, \"CUDA Runtime error at %s: %s\\n\", msg, cudaGetErrorString(err));\n",
        "  }\n",
        "  return err;\n",
        "}\n",
        "\n",
        "__global__ void matrixMulGPU( int * a, int * b, int * c )\n",
        "{\n",
        "  /*\n",
        "   * Build out this kernel.\n",
        "   */\n",
        "    int row = threadIdx.y + blockIdx.y * blockDim.y;\n",
        "    int col = threadIdx.x + blockIdx.x * blockDim.x;\n",
        "    \n",
        "    int val = 0;\n",
        "    if (row < N && col < N) {\n",
        "      for (int i = 0; i < N; ++i) {\n",
        "         val += a[row * N + i] * b[i * N + col];\n",
        "       }\n",
        "    \n",
        "      c[row * N + col] = val;\n",
        "    }\n",
        "}\n",
        "\n",
        "/*\n",
        " * This CPU function already works, and will run to create a solution matrix\n",
        " * against which to verify your work building out the matrixMulGPU kernel.\n",
        " */\n",
        "void matrixMulCPU( int * a, int * b, int * c )\n",
        "{\n",
        "  int val = 0;\n",
        "for( int row = 0; row < N; ++row )\n",
        "    for( int col = 0; col < N; ++col )\n",
        "    {\n",
        "      val = 0;\n",
        "      for ( int k = 0; k < N; ++k )\n",
        "        val += a[row * N + k] * b[k * N + col];\n",
        "      c[row * N + col] = val;\n",
        "    }\n",
        "}\n",
        "int main() {\n",
        "    std::cout << \"Hello world\\n\";\n",
        "    \n",
        "    \n",
        "     int *a, *b, *c_cpu, *c_gpu; // Allocate a solution matrix for both the CPU and the GPU operations\n",
        "int size = N * N * sizeof (int); // Number of bytes of an N x N matrix\n",
        "// Allocate memory\n",
        "  cudaMallocManaged (&a, size);\n",
        "  cudaMallocManaged (&b, size);\n",
        "  cudaMallocManaged (&c_cpu, size);\n",
        "  cudaMallocManaged (&c_gpu, size);\n",
        "// Initialize memory; create 2D matrices\n",
        "  for( int row = 0; row < N; ++row )\n",
        "    for( int col = 0; col < N; ++col )\n",
        "    {\n",
        "      a[row*N + col] = row;\n",
        "      b[row*N + col] = col+2;\n",
        "      c_cpu[row*N + col] = 0;\n",
        "      c_gpu[row*N + col] = 0;\n",
        "    }\n",
        "/*\n",
        "   * Assign `threads_per_block` and `number_of_blocks` 2D values\n",
        "   * that can be used in matrixMulGPU above.\n",
        "   */\n",
        "dim3 threads_per_block(32, 32, 1);\n",
        "  dim3 number_of_blocks(N / threads_per_block.x + 1, N / threads_per_block.y + 1, 1);\n",
        "matrixMulGPU <<< number_of_blocks, threads_per_block >>> ( a, b, c_gpu );\n",
        "checkCudaErr(cudaDeviceSynchronize(), \"Syncronization\");\n",
        "checkCudaErr(cudaGetLastError(), \"GPU\");\n",
        "// Call the CPU version to check our work\n",
        "  matrixMulCPU( a, b, c_cpu );\n",
        "// Compare the two answers to make sure they are equal\n",
        "  bool error = false;\n",
        "  for( int row = 0; row < N && !error; ++row )\n",
        "    for( int col = 0; col < N && !error; ++col )\n",
        "      if (c_cpu[row * N + col] != c_gpu[row * N + col])\n",
        "      {\n",
        "        printf(\"FOUND ERROR at c[%d][%d]\\n\", row, col);\n",
        "        error = true;\n",
        "        break;\n",
        "      }\n",
        "if (!error)\n",
        "    printf(\"Success!\\n\");\n",
        "// Free all our allocated memory\n",
        "  cudaFree(a); cudaFree(b);\n",
        "  cudaFree( c_cpu ); cudaFree( c_gpu );\n",
        "    \n",
        "    \n",
        "    return 0;\n",
        "}"
      ],
      "execution_count": 16,
      "outputs": [
        {
          "output_type": "execute_result",
          "data": {
            "text/plain": [
              "'Hello world\\nSuccess!\\n'"
            ]
          },
          "metadata": {
            "tags": []
          },
          "execution_count": 16
        }
      ]
    },
    {
      "metadata": {
        "id": "wkgNiJsbinDi",
        "colab_type": "code",
        "colab": {
          "base_uri": "https://localhost:8080/",
          "height": 34
        },
        "outputId": "3dc6664a-9046-4069-c59d-67b37bef8654"
      },
      "cell_type": "code",
      "source": [
        "%%cu\n",
        "#include<cuda.h>\n",
        "#include<stdio.h>\n",
        "\n",
        "int main() {\n",
        "    void MatrixMultiplication(float *, float *, float *, int);\n",
        "    const int Width = 5;\n",
        "    float M[Width*Width], N[Width*Width], P[Width*Width];\n",
        "    for(int i = 0; i < (Width*Width) ; i++) {\n",
        "        M[i] = 5;\n",
        "        N[i] = 5;\n",
        "        P[i] = 0;\n",
        "    }\n",
        "    MatrixMultiplication(M, N, P, Width);\n",
        "    for(int i = 0; i < (Width*Width) ; i++) {\n",
        "        printf(\"%d \\n\", P[i]);\n",
        "    }\n",
        "    int quit;\n",
        "    scanf(\"%d\",&quit);\n",
        "    return 0;\n",
        "}\n",
        "\n",
        "//Matrix multiplication kernel - thread specification\n",
        "__global__ void MatrixMulKernel(float *Md, float *Nd, float *Pd, int Width) {\n",
        "    //2D Thread ID\n",
        "    int tx = threadIdx.x;\n",
        "    int ty = threadIdx.y;\n",
        "\n",
        "    //Pvalue stores the Pd element that is computed by the thread\n",
        "    float Pvalue = 0;\n",
        "\n",
        "    for(int k = 0; k < Width ; ++k) {\n",
        "        float Mdelement = Md[ty*Width + k];\n",
        "        float Ndelement = Nd[k*Width + tx];\n",
        "        Pvalue += (Mdelement*Ndelement);\n",
        "    }\n",
        "\n",
        "    Pd[ty*Width + tx] = Pvalue;\n",
        "}\n",
        "\n",
        "void MatrixMultiplication(float *M, float *N, float *P, int Width) {\n",
        "    int size = Width*Width*sizeof(float);\n",
        "    float *Md, *Nd, *Pd;\n",
        "\n",
        "    //Transfer M and N to device memory\n",
        "    cudaMalloc((void**)&Md, size);\n",
        "    cudaMemcpy(Md,M,size,cudaMemcpyHostToDevice);\n",
        "    cudaMalloc((void**)&Nd, size);\n",
        "    cudaMemcpy(Nd,N,size,cudaMemcpyHostToDevice);\n",
        "\n",
        "    //Allocate P on the device\n",
        "    cudaMalloc((void**)&Pd,size);\n",
        "\n",
        "    //Setup the execution configuration\n",
        "    dim3 dimBlock(Width,Width);\n",
        "    dim3 dimGrid(1,1);\n",
        "\n",
        "    //Launch the device computation threads!\n",
        "    MatrixMulKernel<<<dimGrid,dimBlock>>>(Md,Nd,Pd,Width);\n",
        "\n",
        "    //Transfer P from device to host\n",
        "    cudaMemcpy(P,Pd,size,cudaMemcpyDeviceToHost);\n",
        "\n",
        "    //Free device matrices\n",
        "    cudaFree(Md);\n",
        "    cudaFree(Nd);\n",
        "    cudaFree(Pd);\n",
        "}\n"
      ],
      "execution_count": 19,
      "outputs": [
        {
          "output_type": "execute_result",
          "data": {
            "text/plain": [
              "'0 \\n0 \\n0 \\n0 \\n0 \\n0 \\n0 \\n0 \\n0 \\n0 \\n0 \\n0 \\n0 \\n0 \\n0 \\n0 \\n0 \\n0 \\n0 \\n0 \\n0 \\n0 \\n0 \\n0 \\n0 \\n'"
            ]
          },
          "metadata": {
            "tags": []
          },
          "execution_count": 19
        }
      ]
    }
  ]
}